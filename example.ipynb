{
 "cells": [
  {
   "cell_type": "code",
   "execution_count": 2,
   "id": "af41fa4d",
   "metadata": {},
   "outputs": [],
   "source": [
    "import sympy as sp\n",
    "import numpy as np\n",
    "from mpmath import *\n",
    "from autograd import hessian\n",
    "mp.dps = 20 # Setting the precision to 20-digit"
   ]
  },
  {
   "cell_type": "markdown",
   "id": "39d4aa5d",
   "metadata": {},
   "source": [
    "# Loading the data"
   ]
  },
  {
   "cell_type": "code",
   "execution_count": 4,
   "id": "440e8513",
   "metadata": {},
   "outputs": [
    {
     "name": "stdout",
     "output_type": "stream",
     "text": [
      "If possible, one should always work with 20-digit precision e.g. using the mpmath package.\n",
      "However, since the Python packages needed in order to compute the Hessian matrix are only\n",
      "compatible with float64, we will have to tolerate roundoff errors.\n"
     ]
    }
   ],
   "source": [
    "print('If possible, one should always work with 20-digit precision e.g. using the mpmath package.\\nHowever, since the Python packages needed in order to compute the Hessian matrix are only\\ncompatible with float64, we will have to tolerate roundoff errors.')\n",
    "rhoinv = np.around(np.loadtxt('mu-e/L-chirality/uds/rhoinv_mueL_uds.txt'),20)\n",
    "sigma = np.around(np.loadtxt('mu-e/L-chirality/uds/bounds_mueL_uds.txt'),20)"
   ]
  },
  {
   "cell_type": "markdown",
   "id": "7ef18e4f",
   "metadata": {},
   "source": [
    "# Defining the model and the $\\chi^2$"
   ]
  },
  {
   "cell_type": "code",
   "execution_count": 5,
   "id": "ece28fc3",
   "metadata": {},
   "outputs": [],
   "source": [
    "def my_model(c):\n",
    "    # This defines the correlations that your UV-complete model\n",
    "    # enforces on the Wilson coefficients.\n",
    "    # It should take as input the free parameters of your model\n",
    "    # and it should output the corresponding WC present in the fit\n",
    "    # data you have loaded: 9 WC in our case (CuV,CdV,CuA,CdA,CsA,CuS,CdS,CsS,CuT)\n",
    "    \n",
    "    # We are going to consider an isovector model as an example\n",
    "    \n",
    "    p1,p2,p3 = c # c should be a list with your model's free parameters\n",
    "    \n",
    "    # Here we obtain the WC as a function of the input parameters\n",
    "    CuV = p1\n",
    "    CuA = p2\n",
    "    CuS = p3\n",
    "    CdV = -p1\n",
    "    CdA = -p2\n",
    "    CdS = -p3\n",
    "    CuT = 0\n",
    "    CsV,CsA,CsS = 0,0,0\n",
    "    \n",
    "    # Output should always have the same length as the dimension of rhoinv\n",
    "    # and the ordering should match that of the paper\n",
    "    return np.array([CuV,CdV,CuA,CdA,CsA,CuS,CdS,CsS,CuT])\n",
    "\n",
    "\n",
    "# Definition of the chi2\n",
    "# In principle this function should not require modification\n",
    "def chi2(c):\n",
    "    x = np.array([my_model(c)])/sigma\n",
    "    return np.dot(x,np.dot(rhoinv,x.T))[0,0]"
   ]
  },
  {
   "cell_type": "markdown",
   "id": "115220ca",
   "metadata": {},
   "source": [
    "# Numerical estimation of the bounds with autograd"
   ]
  },
  {
   "cell_type": "code",
   "execution_count": 6,
   "id": "6e1b2f51",
   "metadata": {},
   "outputs": [
    {
     "name": "stdout",
     "output_type": "stream",
     "text": [
      "95% C.L. bounds\n",
      "|p1| < 1.0325628010201314e-06\n",
      "|p2| < 2.7507065896440325e-05\n",
      "|p3| < 1.7998947239212554e-08\n"
     ]
    }
   ],
   "source": [
    "# Compute the hessian with autograd package\n",
    "hess = hessian(chi2)(np.zeros(3))\n",
    "bounds = np.sqrt(np.diag(np.linalg.inv(0.5*hess)))\n",
    "print('95% C.L. bounds')\n",
    "for i in range(len(bounds)):\n",
    "    print('|p'+str(i+1)+'| < '+str(bounds[i]))"
   ]
  },
  {
   "cell_type": "markdown",
   "id": "c0919b14",
   "metadata": {},
   "source": [
    "# Symbolic estimation of the bounds with sympy"
   ]
  },
  {
   "cell_type": "code",
   "execution_count": 7,
   "id": "acdc8c74",
   "metadata": {},
   "outputs": [
    {
     "name": "stdout",
     "output_type": "stream",
     "text": [
      "95% C.L. bounds\n",
      "|p1| < 1.032562801020134e-06\n",
      "|p2| < 2.7507065896440325e-05\n",
      "|p3| < 1.7998947239212604e-08\n"
     ]
    }
   ],
   "source": [
    "c1 = sp.symbols('c1')\n",
    "c2 = sp.symbols('c2')\n",
    "c3 = sp.symbols('c3')\n",
    "c = [c1,c2,c3]\n",
    "ch2 = chi2(c)\n",
    "\n",
    "hess = np.zeros((3,3))\n",
    "for i in range(3):\n",
    "    for j in range(i,3):\n",
    "        hess[i,j] = sp.diff(ch2,c[i],c[j])\n",
    "        hess[j,i] = hess[i,j]\n",
    "\n",
    "bounds = np.sqrt(np.diag(np.linalg.inv(0.5*hess)))\n",
    "print('95% C.L. bounds')\n",
    "for i in range(len(bounds)):\n",
    "    print('|p'+str(i+1)+'| < '+str(bounds[i]))"
   ]
  },
  {
   "cell_type": "code",
   "execution_count": null,
   "id": "4564faa8",
   "metadata": {},
   "outputs": [],
   "source": []
  }
 ],
 "metadata": {
  "kernelspec": {
   "display_name": "Python 3 (ipykernel)",
   "language": "python",
   "name": "python3"
  },
  "language_info": {
   "codemirror_mode": {
    "name": "ipython",
    "version": 3
   },
   "file_extension": ".py",
   "mimetype": "text/x-python",
   "name": "python",
   "nbconvert_exporter": "python",
   "pygments_lexer": "ipython3",
   "version": "3.9.12"
  }
 },
 "nbformat": 4,
 "nbformat_minor": 5
}
